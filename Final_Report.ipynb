{
 "cells": [
  {
   "cell_type": "markdown",
   "metadata": {},
   "source": [
    "# Venue Recommendation for a new Vegeterian Restaurant in RUSSIA"
   ]
  },
  {
   "cell_type": "markdown",
   "metadata": {},
   "source": [
    "## 1. Introduction"
   ]
  },
  {
   "cell_type": "markdown",
   "metadata": {},
   "source": [
    "### 1.1 Background"
   ]
  },
  {
   "cell_type": "markdown",
   "metadata": {},
   "source": [
    "The United Kingdom of Great Britain is a sovereign country located off the north western coast of the European mainland. \n",
    "The United Kingdom is a developed country and has the world's sixth-largest economy by nominal GDP and ninth-largest economy by purchasing power parity. It has a high-income economy and has a very high Human Development Index rating, ranking 14th in the world. It was the world's first industrialised country and the world's foremost power during the 19th and early 20th centuries."
   ]
  },
  {
   "cell_type": "markdown",
   "metadata": {},
   "source": [
    "### 1.2 Problem"
   ]
  },
  {
   "cell_type": "markdown",
   "metadata": {},
   "source": [
    "In this project I would like to solve imaginary case.\n",
    "One foreign Investor (customer) wants to invest and open vegan cafe in one of the city of Russia.\n",
    "After a meeting with him, he defined his business aim and informed me about the criteria’s like following, it should be:\n",
    "1. Opened in one of the big Cities of Russia (Population over 100.000 and more).\n",
    "2. Within the max. 15 minutes walking distance from the Geographical coordinates of the City Center\n",
    "3. As far away from other vegan cafe as possible\n",
    "4. As close as possible to Hotels, because guests of the in-city hotels are generally tended to eat vegan cuisine nearby.\n",
    "5. Population of the city also counts as a positive measure too. (City should be as crowded as possible)\n",
    "6. And many city dwellers should love vegetarian cuisine"
   ]
  },
  {
   "cell_type": "markdown",
   "metadata": {},
   "source": [
    "## 2. Data acquisition and problem solving"
   ]
  },
  {
   "cell_type": "markdown",
   "metadata": {},
   "source": [
    "### 2.1 Data source"
   ]
  },
  {
   "cell_type": "markdown",
   "metadata": {},
   "source": [
    "I found csv file of Russian cities with their population and download it."
   ]
  },
  {
   "cell_type": "code",
   "execution_count": 8,
   "metadata": {},
   "outputs": [
    {
     "data": {
      "text/html": [
       "<div>\n",
       "<style scoped>\n",
       "    .dataframe tbody tr th:only-of-type {\n",
       "        vertical-align: middle;\n",
       "    }\n",
       "\n",
       "    .dataframe tbody tr th {\n",
       "        vertical-align: top;\n",
       "    }\n",
       "\n",
       "    .dataframe thead th {\n",
       "        text-align: right;\n",
       "    }\n",
       "</style>\n",
       "<table border=\"1\" class=\"dataframe\">\n",
       "  <thead>\n",
       "    <tr style=\"text-align: right;\">\n",
       "      <th></th>\n",
       "      <th>city</th>\n",
       "      <th>population</th>\n",
       "      <th>lat</th>\n",
       "      <th>lng</th>\n",
       "    </tr>\n",
       "  </thead>\n",
       "  <tbody>\n",
       "    <tr>\n",
       "      <td>0</td>\n",
       "      <td>Moscow</td>\n",
       "      <td>10452000.0</td>\n",
       "      <td>55.752222</td>\n",
       "      <td>37.615556</td>\n",
       "    </tr>\n",
       "    <tr>\n",
       "      <td>1</td>\n",
       "      <td>Saint Petersburg</td>\n",
       "      <td>4553000.0</td>\n",
       "      <td>59.894444</td>\n",
       "      <td>30.264167</td>\n",
       "    </tr>\n",
       "    <tr>\n",
       "      <td>2</td>\n",
       "      <td>Novosibirsk</td>\n",
       "      <td>1389000.0</td>\n",
       "      <td>55.041500</td>\n",
       "      <td>82.934600</td>\n",
       "    </tr>\n",
       "    <tr>\n",
       "      <td>3</td>\n",
       "      <td>Yekaterinburg</td>\n",
       "      <td>1313000.0</td>\n",
       "      <td>56.851900</td>\n",
       "      <td>60.612200</td>\n",
       "    </tr>\n",
       "    <tr>\n",
       "      <td>4</td>\n",
       "      <td>Nizhniy Novgorod</td>\n",
       "      <td>1278000.0</td>\n",
       "      <td>56.326944</td>\n",
       "      <td>44.007500</td>\n",
       "    </tr>\n",
       "  </tbody>\n",
       "</table>\n",
       "</div>"
      ],
      "text/plain": [
       "               city  population        lat        lng\n",
       "0            Moscow  10452000.0  55.752222  37.615556\n",
       "1  Saint Petersburg   4553000.0  59.894444  30.264167\n",
       "2       Novosibirsk   1389000.0  55.041500  82.934600\n",
       "3     Yekaterinburg   1313000.0  56.851900  60.612200\n",
       "4  Nizhniy Novgorod   1278000.0  56.326944  44.007500"
      ]
     },
     "execution_count": 8,
     "metadata": {},
     "output_type": "execute_result"
    }
   ],
   "source": [
    "import pandas as pd\n",
    "\n",
    "russian_cities = pd.read_csv(\"ru.csv\")\n",
    "russian_cities = russian_cities[[\"city\", \"population\", \"lat\", \"lng\"]]\n",
    "russian_cities.head()"
   ]
  },
  {
   "cell_type": "markdown",
   "metadata": {},
   "source": [
    "Second source is a source about venues. I will get this data from Foursquare"
   ]
  },
  {
   "cell_type": "markdown",
   "metadata": {},
   "source": [
    " And I will describe some points which I'm going to solve in this project"
   ]
  },
  {
   "cell_type": "markdown",
   "metadata": {},
   "source": [
    "1. This is already satisfied because we have fetched cities only with population >100k.\n",
    "2. Within the max. 15 minutes walking distance from the Geographical coordinates of the City Center.\n",
    "This request is converted to an variable to use in Foursquare Api call (Radius = 1250 meters in search).\n",
    "3. As far away from other vegan cafe as possible.\n",
    "4. As close as possible to Hotels.\n",
    "5. Population value is directly related to the number of potential customers. \n",
    "6. I will do a little socioeconomic study to understand which cities have more vegans."
   ]
  },
  {
   "cell_type": "markdown",
   "metadata": {},
   "source": [
    "## 3. Methodology"
   ]
  },
  {
   "cell_type": "markdown",
   "metadata": {},
   "source": [
    "Method is: K-means Analyze, it gives us may be not directly the descending order of the best cities numerically but, it shows us the which cities are clustered together in accordance to the customer requirements and supports its results with a beautiful folium cluster map, telling us a story :"
   ]
  },
  {
   "cell_type": "markdown",
   "metadata": {},
   "source": [
    "## 4. Results"
   ]
  },
  {
   "cell_type": "markdown",
   "metadata": {},
   "source": [
    "Our Final List to advice to the Customer would be :"
   ]
  },
  {
   "cell_type": "markdown",
   "metadata": {},
   "source": [
    "- Nizhniy Novgorod\n",
    "- Volgograd\t\n",
    "- Moscow\n",
    "- Saint Petersburg\t\n",
    "- Voronezh"
   ]
  },
  {
   "cell_type": "markdown",
   "metadata": {},
   "source": [
    "## 5. Discussion about further improvement possibilities"
   ]
  },
  {
   "cell_type": "markdown",
   "metadata": {},
   "source": [
    "Like in every engineering problem happens we have also made some assumptions and simplifications to understand and present solution in a better way. One of the biggest problems in this project, I would say source of the Venue Data. We are using a USA based Data supplier , Foursquare to judge places venues in the Russia , this data seem to be missing and in some parts are not suitable to our problem. Tagging of venues are made from the Foursquare users , I am assuming they are mainly not Russian. It is highly possible some of venues are wrong tagged or skipped, not listed in api call results. So, as a further improvement one can go professional and buy a real data set especially prepared for the Russia (or any other country in your analyzes)."
   ]
  },
  {
   "cell_type": "markdown",
   "metadata": {},
   "source": [
    "## 6. Conclusion"
   ]
  },
  {
   "cell_type": "markdown",
   "metadata": {},
   "source": [
    "In this project I wanted to create and solve a real-life problem rather than repeating the classical clustering assignment from our course. I made this assignment much more complicated than the necessary and because of that, I have to spent too much time than the normal case as you appreciate. But just because of that complexity and, having no example in front of me, I have learned too many things from this project. I had to think and find ideas myself like, weight matrix, customer wishes, adapting all those to still our assignment guidelines. So, it may include some wrong conceptions, but still I hope enjoy reading and evaluating it. I hope this project will help me the find a right role in the Data Science world."
   ]
  }
 ],
 "metadata": {
  "kernelspec": {
   "display_name": "Python 3",
   "language": "python",
   "name": "python3"
  },
  "language_info": {
   "codemirror_mode": {
    "name": "ipython",
    "version": 3
   },
   "file_extension": ".py",
   "mimetype": "text/x-python",
   "name": "python",
   "nbconvert_exporter": "python",
   "pygments_lexer": "ipython3",
   "version": "3.7.4"
  }
 },
 "nbformat": 4,
 "nbformat_minor": 2
}
