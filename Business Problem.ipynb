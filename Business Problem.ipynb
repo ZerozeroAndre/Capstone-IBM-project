{
 "cells": [
  {
   "cell_type": "markdown",
   "metadata": {},
   "source": [
    "# Coursera Capstone Project"
   ]
  },
  {
   "cell_type": "markdown",
   "metadata": {},
   "source": [
    "### 1. A description of the problem and a discussion of the background."
   ]
  },
  {
   "cell_type": "markdown",
   "metadata": {},
   "source": [
    "In this project I would like to solve imaginary case.\n",
    "One Foreign Investor (customer) wants to invest and open vegan cafe in one of the city of United Kingdom.\n",
    "After a meeting with him, he defined his business aim and informed me about the criteria’s like following, it should be:\n",
    "1. Opened in one of the big Cities of United Kingdom (Population over 100.000 and more).\n",
    "2. Within the max. 15 minutes walking distance from the Geographical coordinates of the City Center\n",
    "3. As far away from other vegan cafe as possible\n",
    "4. As close as possible to Hotels, because guests of the in-city hotels are generally tended to eat vegan cuisine nearby.\n",
    "5. Population of the city also counts as a positive measure too. (City should be as crowded as possible)\n",
    "6. And many city dwellers should love vegetarian cuisine\n"
   ]
  },
  {
   "cell_type": "markdown",
   "metadata": {},
   "source": [
    "### 2. A description of the data and how it will be used to solve the problem."
   ]
  },
  {
   "cell_type": "markdown",
   "metadata": {},
   "source": [
    "1. This is already satisfied because we have fetched cities only with population >100k.\n",
    "2. Within the max. 15 minutes walking distance from the Geographical coordinates of the City Center.\n",
    "This request is converted to an variable to use in Foursquare Api call (Radius = 1250 meters in search.\n",
    "3. As far away from other vegan cafe as possible.\n",
    "4. As close as possible to Hotels.\n",
    "5. Population value is directly related to the number of potential customers. \n",
    "6. I will do a little socioeconomic study to understand which cities have more vegans."
   ]
  }
 ],
 "metadata": {
  "kernelspec": {
   "display_name": "Python 3",
   "language": "python",
   "name": "python3"
  },
  "language_info": {
   "codemirror_mode": {
    "name": "ipython",
    "version": 3
   },
   "file_extension": ".py",
   "mimetype": "text/x-python",
   "name": "python",
   "nbconvert_exporter": "python",
   "pygments_lexer": "ipython3",
   "version": "3.7.4"
  }
 },
 "nbformat": 4,
 "nbformat_minor": 2
}
