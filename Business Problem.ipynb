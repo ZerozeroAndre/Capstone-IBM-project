{
 "cells": [
  {
   "cell_type": "markdown",
   "metadata": {},
   "source": [
    "# Venue Recommendation for a new Vegeterian Restaurant in UK"
   ]
  },
  {
   "cell_type": "markdown",
   "metadata": {},
   "source": [
    "## 1. Introduction"
   ]
  },
  {
   "cell_type": "markdown",
   "metadata": {},
   "source": [
    "### 1.1 Background"
   ]
  },
  {
   "cell_type": "markdown",
   "metadata": {},
   "source": [
    "The United Kingdom of Great Britain is a sovereign country located off the north western coast of the European mainland. \n",
    "The United Kingdom is a developed country and has the world's sixth-largest economy by nominal GDP and ninth-largest economy by purchasing power parity. It has a high-income economy and has a very high Human Development Index rating, ranking 14th in the world. It was the world's first industrialised country and the world's foremost power during the 19th and early 20th centuries."
   ]
  },
  {
   "cell_type": "markdown",
   "metadata": {},
   "source": [
    "### 1.2 Problem"
   ]
  },
  {
   "cell_type": "markdown",
   "metadata": {},
   "source": [
    "In this project I would like to solve imaginary case.\n",
    "One Russian Investor (customer) wants to invest and open vegan cafe in one of the city of United Kingdom.\n",
    "After a meeting with him, he defined his business aim and informed me about the criteria’s like following, it should be:\n",
    "1. Opened in one of the big Cities of United Kingdom (Population over 100.000 and more).\n",
    "2. Within the max. 15 minutes walking distance from the Geographical coordinates of the City Center\n",
    "3. As far away from other vegan cafe as possible\n",
    "4. As close as possible to Hotels, because guests of the in-city hotels are generally tended to eat vegan cuisine nearby.\n",
    "5. Population of the city also counts as a positive measure too. (City should be as crowded as possible)\n",
    "6. And many city dwellers should love vegetarian cuisine"
   ]
  },
  {
   "cell_type": "markdown",
   "metadata": {},
   "source": [
    "## 2. Data acquisition and problem solving"
   ]
  },
  {
   "cell_type": "markdown",
   "metadata": {},
   "source": [
    "### 2.1 Data source"
   ]
  },
  {
   "cell_type": "markdown",
   "metadata": {},
   "source": [
    "#### Download data from https://simplemaps.com/data/gb-cities"
   ]
  },
  {
   "cell_type": "markdown",
   "metadata": {},
   "source": [
    "I found csv file of UK cities with their population and download it."
   ]
  },
  {
   "cell_type": "markdown",
   "metadata": {},
   "source": [
    "#### Second source is a source about venues. I will get this data from Foursquare"
   ]
  },
  {
   "cell_type": "markdown",
   "metadata": {},
   "source": [
    "#### And I will describe some points which I'm going to solve in this project"
   ]
  },
  {
   "cell_type": "markdown",
   "metadata": {},
   "source": [
    "1. This is already satisfied because we have fetched cities only with population >100k.\n",
    "2. Within the max. 15 minutes walking distance from the Geographical coordinates of the City Center.\n",
    "This request is converted to an variable to use in Foursquare Api call (Radius = 1250 meters in search.\n",
    "3. As far away from other vegan cafe as possible.\n",
    "4. As close as possible to Hotels.\n",
    "5. Population value is directly related to the number of potential customers. \n",
    "6. I will do a little socioeconomic study to understand which cities have more vegans."
   ]
  }
 ],
 "metadata": {
  "kernelspec": {
   "display_name": "Python 3",
   "language": "python",
   "name": "python3"
  },
  "language_info": {
   "codemirror_mode": {
    "name": "ipython",
    "version": 3
   },
   "file_extension": ".py",
   "mimetype": "text/x-python",
   "name": "python",
   "nbconvert_exporter": "python",
   "pygments_lexer": "ipython3",
   "version": "3.7.4"
  }
 },
 "nbformat": 4,
 "nbformat_minor": 2
}
