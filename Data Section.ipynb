{
 "cells": [
  {
   "cell_type": "markdown",
   "metadata": {},
   "source": [
    "#### But in this case in addition to general Venues data of all Major Russian Cities, we will be adding some Socioeconomic information like Population, Average Income /person, Average Unemployment Rate and Area in km2 of that city."
   ]
  },
  {
   "cell_type": "code",
   "execution_count": 87,
   "metadata": {},
   "outputs": [
    {
     "name": "stdout",
     "output_type": "stream",
     "text": [
      "Libraries imported.\n"
     ]
    }
   ],
   "source": [
    "import pandas as pd\n",
    "\n",
    "print('Libraries imported.')"
   ]
  },
  {
   "cell_type": "markdown",
   "metadata": {},
   "source": [
    "#### Some facts about vegeterian:\n",
    "    - average age of a vegan today is 42\n",
    "    - less surprising is that 74% — almost three-in-four vegans — are female"
   ]
  },
  {
   "cell_type": "markdown",
   "metadata": {},
   "source": [
    "## I UK population Data"
   ]
  },
  {
   "cell_type": "code",
   "execution_count": 79,
   "metadata": {},
   "outputs": [],
   "source": [
    "df = pd.read_csv(\"C:/Users/andre/Notebooks/Data/worldcities.csv\")"
   ]
  },
  {
   "cell_type": "markdown",
   "metadata": {},
   "source": [
    "### Sort and select the top of 20 cities of United Kingdom where live the largest number of people"
   ]
  },
  {
   "cell_type": "code",
   "execution_count": 84,
   "metadata": {},
   "outputs": [],
   "source": [
    "df = df[df['iso2'] == \"GB\"].sort_values(by=[\"population\"], ascending = False).head(20)"
   ]
  },
  {
   "cell_type": "code",
   "execution_count": 86,
   "metadata": {},
   "outputs": [
    {
     "data": {
      "text/html": [
       "<div>\n",
       "<style scoped>\n",
       "    .dataframe tbody tr th:only-of-type {\n",
       "        vertical-align: middle;\n",
       "    }\n",
       "\n",
       "    .dataframe tbody tr th {\n",
       "        vertical-align: top;\n",
       "    }\n",
       "\n",
       "    .dataframe thead th {\n",
       "        text-align: right;\n",
       "    }\n",
       "</style>\n",
       "<table border=\"1\" class=\"dataframe\">\n",
       "  <thead>\n",
       "    <tr style=\"text-align: right;\">\n",
       "      <th></th>\n",
       "      <th>city</th>\n",
       "      <th>population</th>\n",
       "      <th>lat</th>\n",
       "      <th>lng</th>\n",
       "    </tr>\n",
       "  </thead>\n",
       "  <tbody>\n",
       "    <tr>\n",
       "      <td>25</td>\n",
       "      <td>London</td>\n",
       "      <td>8567000.0</td>\n",
       "      <td>51.5000</td>\n",
       "      <td>-0.1167</td>\n",
       "    </tr>\n",
       "    <tr>\n",
       "      <td>177</td>\n",
       "      <td>Birmingham</td>\n",
       "      <td>2285000.0</td>\n",
       "      <td>52.4750</td>\n",
       "      <td>-1.9200</td>\n",
       "    </tr>\n",
       "    <tr>\n",
       "      <td>181</td>\n",
       "      <td>Manchester</td>\n",
       "      <td>2230000.0</td>\n",
       "      <td>53.5004</td>\n",
       "      <td>-2.2480</td>\n",
       "    </tr>\n",
       "    <tr>\n",
       "      <td>297</td>\n",
       "      <td>Leeds</td>\n",
       "      <td>1529000.0</td>\n",
       "      <td>53.8300</td>\n",
       "      <td>-1.5800</td>\n",
       "    </tr>\n",
       "    <tr>\n",
       "      <td>372</td>\n",
       "      <td>Sheffield</td>\n",
       "      <td>1292900.0</td>\n",
       "      <td>53.3667</td>\n",
       "      <td>-1.5000</td>\n",
       "    </tr>\n",
       "    <tr>\n",
       "      <td>410</td>\n",
       "      <td>Glasgow</td>\n",
       "      <td>1160000.0</td>\n",
       "      <td>55.8744</td>\n",
       "      <td>-4.2507</td>\n",
       "    </tr>\n",
       "    <tr>\n",
       "      <td>683</td>\n",
       "      <td>Newcastle upon Tyne</td>\n",
       "      <td>882000.0</td>\n",
       "      <td>55.0004</td>\n",
       "      <td>-1.6000</td>\n",
       "    </tr>\n",
       "    <tr>\n",
       "      <td>705</td>\n",
       "      <td>Caerdydd</td>\n",
       "      <td>861400.0</td>\n",
       "      <td>51.5000</td>\n",
       "      <td>-3.2250</td>\n",
       "    </tr>\n",
       "    <tr>\n",
       "      <td>736</td>\n",
       "      <td>Nottingham</td>\n",
       "      <td>825600.0</td>\n",
       "      <td>52.9703</td>\n",
       "      <td>-1.1700</td>\n",
       "    </tr>\n",
       "    <tr>\n",
       "      <td>744</td>\n",
       "      <td>Liverpool</td>\n",
       "      <td>811000.0</td>\n",
       "      <td>53.4160</td>\n",
       "      <td>-2.9180</td>\n",
       "    </tr>\n",
       "    <tr>\n",
       "      <td>897</td>\n",
       "      <td>Southend-on-Sea</td>\n",
       "      <td>618386.0</td>\n",
       "      <td>51.5500</td>\n",
       "      <td>0.7200</td>\n",
       "    </tr>\n",
       "    <tr>\n",
       "      <td>977</td>\n",
       "      <td>Bristol</td>\n",
       "      <td>553528.0</td>\n",
       "      <td>51.4500</td>\n",
       "      <td>-2.5833</td>\n",
       "    </tr>\n",
       "    <tr>\n",
       "      <td>1036</td>\n",
       "      <td>Edinburgh</td>\n",
       "      <td>504966.0</td>\n",
       "      <td>55.9483</td>\n",
       "      <td>-3.2191</td>\n",
       "    </tr>\n",
       "    <tr>\n",
       "      <td>1045</td>\n",
       "      <td>Brighton</td>\n",
       "      <td>503008.0</td>\n",
       "      <td>50.8303</td>\n",
       "      <td>-0.1700</td>\n",
       "    </tr>\n",
       "    <tr>\n",
       "      <td>1047</td>\n",
       "      <td>Bradford</td>\n",
       "      <td>501700.0</td>\n",
       "      <td>53.8000</td>\n",
       "      <td>-1.7500</td>\n",
       "    </tr>\n",
       "    <tr>\n",
       "      <td>1121</td>\n",
       "      <td>Leicester</td>\n",
       "      <td>457983.0</td>\n",
       "      <td>52.6300</td>\n",
       "      <td>-1.1332</td>\n",
       "    </tr>\n",
       "    <tr>\n",
       "      <td>1129</td>\n",
       "      <td>Sunderland</td>\n",
       "      <td>452934.0</td>\n",
       "      <td>54.9200</td>\n",
       "      <td>-1.3800</td>\n",
       "    </tr>\n",
       "    <tr>\n",
       "      <td>1137</td>\n",
       "      <td>Belfast</td>\n",
       "      <td>450406.0</td>\n",
       "      <td>54.6000</td>\n",
       "      <td>-5.9600</td>\n",
       "    </tr>\n",
       "    <tr>\n",
       "      <td>1154</td>\n",
       "      <td>Portsmouth</td>\n",
       "      <td>442252.0</td>\n",
       "      <td>50.8003</td>\n",
       "      <td>-1.0800</td>\n",
       "    </tr>\n",
       "    <tr>\n",
       "      <td>1184</td>\n",
       "      <td>Bournemouth</td>\n",
       "      <td>426945.0</td>\n",
       "      <td>50.7300</td>\n",
       "      <td>-1.9000</td>\n",
       "    </tr>\n",
       "  </tbody>\n",
       "</table>\n",
       "</div>"
      ],
      "text/plain": [
       "                     city  population      lat     lng\n",
       "25                 London   8567000.0  51.5000 -0.1167\n",
       "177            Birmingham   2285000.0  52.4750 -1.9200\n",
       "181            Manchester   2230000.0  53.5004 -2.2480\n",
       "297                 Leeds   1529000.0  53.8300 -1.5800\n",
       "372             Sheffield   1292900.0  53.3667 -1.5000\n",
       "410               Glasgow   1160000.0  55.8744 -4.2507\n",
       "683   Newcastle upon Tyne    882000.0  55.0004 -1.6000\n",
       "705              Caerdydd    861400.0  51.5000 -3.2250\n",
       "736            Nottingham    825600.0  52.9703 -1.1700\n",
       "744             Liverpool    811000.0  53.4160 -2.9180\n",
       "897       Southend-on-Sea    618386.0  51.5500  0.7200\n",
       "977               Bristol    553528.0  51.4500 -2.5833\n",
       "1036            Edinburgh    504966.0  55.9483 -3.2191\n",
       "1045             Brighton    503008.0  50.8303 -0.1700\n",
       "1047             Bradford    501700.0  53.8000 -1.7500\n",
       "1121            Leicester    457983.0  52.6300 -1.1332\n",
       "1129           Sunderland    452934.0  54.9200 -1.3800\n",
       "1137              Belfast    450406.0  54.6000 -5.9600\n",
       "1154           Portsmouth    442252.0  50.8003 -1.0800\n",
       "1184          Bournemouth    426945.0  50.7300 -1.9000"
      ]
     },
     "execution_count": 86,
     "metadata": {},
     "output_type": "execute_result"
    }
   ],
   "source": [
    "df[[\"city\", \"population\", \"lat\", \"lng\"]]"
   ]
  },
  {
   "cell_type": "markdown",
   "metadata": {},
   "source": [
    "## II Cities Venue Data from Foursquare"
   ]
  }
 ],
 "metadata": {
  "kernelspec": {
   "display_name": "Python 3",
   "language": "python",
   "name": "python3"
  },
  "language_info": {
   "codemirror_mode": {
    "name": "ipython",
    "version": 3
   },
   "file_extension": ".py",
   "mimetype": "text/x-python",
   "name": "python",
   "nbconvert_exporter": "python",
   "pygments_lexer": "ipython3",
   "version": "3.7.4"
  }
 },
 "nbformat": 4,
 "nbformat_minor": 2
}
